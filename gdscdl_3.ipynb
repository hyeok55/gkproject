{
  "nbformat": 4,
  "nbformat_minor": 0,
  "metadata": {
    "colab": {
      "provenance": [],
      "collapsed_sections": [],
      "authorship_tag": "ABX9TyNmS9sRzxM5X8CaBkghqtx0",
      "include_colab_link": true
    },
    "kernelspec": {
      "name": "python3",
      "display_name": "Python 3"
    },
    "language_info": {
      "name": "python"
    },
    "accelerator": "GPU"
  },
  "cells": [
    {
      "cell_type": "markdown",
      "metadata": {
        "id": "view-in-github",
        "colab_type": "text"
      },
      "source": [
        "<a href=\"https://colab.research.google.com/github/hyeok55/gkproject/blob/main/gdscdl_3.ipynb\" target=\"_parent\"><img src=\"https://colab.research.google.com/assets/colab-badge.svg\" alt=\"Open In Colab\"/></a>"
      ]
    },
    {
      "cell_type": "code",
      "execution_count": 1,
      "metadata": {
        "id": "FSWRhFH_ln1Y"
      },
      "outputs": [],
      "source": [
        "import torch\n"
      ]
    },
    {
      "cell_type": "code",
      "source": [
        "device = 'cuda' if torch.cuda.is_available() else 'cpu'\n",
        "\n",
        "torch.manual_seed(777)\n",
        "if device == 'cuda':\n",
        "  torch.cuda.manual_seed_all(777)\n"
      ],
      "metadata": {
        "id": "Cx_kLHOE-OwF"
      },
      "execution_count": 9,
      "outputs": []
    },
    {
      "cell_type": "code",
      "source": [
        "x = torch.FloatTensor([[0,0],[1,0],[0,1],[1,1]]).to(device)\n",
        "y = torch.FloatTensor([[0],[1],[1],[0]]).to(device)"
      ],
      "metadata": {
        "id": "dRNufNan-dAZ"
      },
      "execution_count": 12,
      "outputs": []
    },
    {
      "cell_type": "code",
      "source": [
        "linear1 = torch.nn.Linear(2, 10 ,bias = True)\n",
        "linear2 = torch.nn.Linear(10, 10 ,bias = True)\n",
        "linear3 = torch.nn.Linear(10, 10 ,bias = True)\n",
        "linear4 = torch.nn.Linear(10, 1 ,bias = True)\n",
        "sigmoid = torch.nn.Sigmoid()\n",
        " # 출력값의 shape 10"
      ],
      "metadata": {
        "id": "RrRLmois_cSC"
      },
      "execution_count": 14,
      "outputs": []
    },
    {
      "cell_type": "code",
      "source": [
        "model = torch.nn.Sequential(linear1,sigmoid,linear2,sigmoid,linear3,sigmoid,linear4,sigmoid).to(device)"
      ],
      "metadata": {
        "id": "4KD8BQZHAR_x"
      },
      "execution_count": 15,
      "outputs": []
    },
    {
      "cell_type": "code",
      "source": [
        "#Loss\n",
        "criterion = torch.nn.BCELoss().to(device)"
      ],
      "metadata": {
        "id": "SBP7l4CwAsr5"
      },
      "execution_count": 16,
      "outputs": []
    },
    {
      "cell_type": "code",
      "source": [
        "#Optimizer\n",
        "optimizer = torch.optim.SGD(model.parameters(), lr=10) #learning rate"
      ],
      "metadata": {
        "id": "BqDVrnp_A7tg"
      },
      "execution_count": 27,
      "outputs": []
    },
    {
      "cell_type": "code",
      "source": [
        "for epoch in range(10000):\n",
        "  optimizer.zero_grad()\n",
        "  hypothesis = model(x) # -> 예측값\n",
        "  cost = criterion(hypothesis,y)\n",
        "  cost.backward() # ->역전파\n",
        "  optimizer.step()\n",
        "\n",
        "  if epoch % 100 == 0:\n",
        "    print(epoch, cost.item()) # -> output 이 Tensor"
      ],
      "metadata": {
        "colab": {
          "base_uri": "https://localhost:8080/"
        },
        "id": "ElgzbiUzBRb8",
        "outputId": "0f348de0-7181-4df9-9b09-629cbc067557"
      },
      "execution_count": 28,
      "outputs": [
        {
          "output_type": "stream",
          "name": "stdout",
          "text": [
            "0 9.459738794248551e-05\n",
            "100 8.125958265736699e-05\n",
            "200 7.117066706996411e-05\n",
            "300 6.32277806289494e-05\n",
            "400 5.6864570069592446e-05\n",
            "500 5.163395690033212e-05\n",
            "600 4.7282585001084954e-05\n",
            "700 4.357201396487653e-05\n",
            "800 4.039792838739231e-05\n",
            "900 3.7655998312402517e-05\n",
            "1000 3.5227014450356364e-05\n",
            "1100 3.3081167202908546e-05\n",
            "1200 3.1188654247671366e-05\n",
            "1300 2.9549471946666017e-05\n",
            "1400 2.8014605049975216e-05\n",
            "1500 2.664365638338495e-05\n",
            "1600 2.539192428230308e-05\n",
            "1700 2.4214701625169255e-05\n",
            "1800 2.3201397198135965e-05\n",
            "1900 2.223279807367362e-05\n",
            "2000 2.1353607735363767e-05\n",
            "2100 2.0548926841001958e-05\n",
            "2200 1.977405190700665e-05\n",
            "2300 1.907368095999118e-05\n",
            "2400 1.840311597334221e-05\n",
            "2500 1.7807058611651883e-05\n",
            "2600 1.7225902411155403e-05\n",
            "2700 1.6674548533046618e-05\n",
            "2800 1.6182801118702628e-05\n",
            "2900 1.570595668454189e-05\n",
            "3000 1.5229111340886448e-05\n",
            "3100 1.4811871551501099e-05\n",
            "3200 1.4409534742299002e-05\n",
            "3300 1.4036999345989898e-05\n",
            "3400 1.3679366020369343e-05\n",
            "3500 1.3321732694748789e-05\n",
            "3600 1.2979002349311486e-05\n",
            "3700 1.2680974577961024e-05\n",
            "3800 1.2412750038492959e-05\n",
            "3900 1.2084919944754802e-05\n",
            "4000 1.1831597475975286e-05\n",
            "4100 1.1563372936507221e-05\n",
            "4200 1.1295149306533858e-05\n",
            "4300 1.105672799894819e-05\n",
            "4400 1.083320785255637e-05\n",
            "4500 1.0579884474282153e-05\n",
            "4600 1.0430871043354273e-05\n",
            "4700 1.0207351806457154e-05\n",
            "4800 1.001363398245303e-05\n",
            "4900 9.805014997255057e-06\n",
            "5000 9.656002475821879e-06\n",
            "5100 9.432482329430059e-06\n",
            "5200 9.28346980799688e-06\n",
            "5300 9.134456377069e-06\n",
            "5400 8.955640623753425e-06\n",
            "5500 8.806628102320246e-06\n",
            "5600 8.657614671392366e-06\n",
            "5700 8.523503311153036e-06\n",
            "5800 8.389391950913705e-06\n",
            "5900 8.27018084237352e-06\n",
            "6000 8.13606948213419e-06\n",
            "6100 8.016859283088706e-06\n",
            "6200 7.897649084043223e-06\n",
            "6300 7.77843888499774e-06\n",
            "6400 7.659227776457556e-06\n",
            "6500 7.5400180321594235e-06\n",
            "6600 7.435709449055139e-06\n",
            "6700 7.316498795262305e-06\n",
            "6800 7.212190212158021e-06\n",
            "6900 7.1376834966940805e-06\n",
            "7000 7.0184732976485975e-06\n",
            "7100 6.914164259796962e-06\n",
            "7200 6.839657999080373e-06\n",
            "7300 6.765151738363784e-06\n",
            "7400 6.660843155259499e-06\n",
            "7500 6.556533662660513e-06\n",
            "7600 6.482027856691275e-06\n",
            "7700 6.407521595974686e-06\n",
            "7800 6.30321255812305e-06\n",
            "7900 6.228706297406461e-06\n",
            "8000 6.184002813824918e-06\n",
            "8100 6.079693775973283e-06\n",
            "8200 6.034989837644389e-06\n",
            "8300 5.945582415733952e-06\n",
            "8400 5.88597686146386e-06\n",
            "8500 5.811471055494621e-06\n",
            "8600 5.751866410719231e-06\n",
            "8700 5.692260856449138e-06\n",
            "8800 5.632656211673748e-06\n",
            "8900 5.558149496209808e-06\n",
            "9000 5.513446012628265e-06\n",
            "9100 5.453841367852874e-06\n",
            "9200 5.379334652388934e-06\n",
            "9300 5.334631168807391e-06\n",
            "9400 5.2750260692846496e-06\n",
            "9500 5.215420969761908e-06\n",
            "9600 5.1558163249865174e-06\n",
            "9700 5.140914709045319e-06\n",
            "9800 5.051507287134882e-06\n",
            "9900 5.036606125941034e-06\n"
          ]
        }
      ]
    },
    {
      "cell_type": "code",
      "source": [],
      "metadata": {
        "id": "0uk5UKZDBxOP"
      },
      "execution_count": null,
      "outputs": []
    }
  ]
}